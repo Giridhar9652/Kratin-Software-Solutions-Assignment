{
 "cells": [
  {
   "cell_type": "markdown",
   "id": "828b24bd",
   "metadata": {},
   "source": [
    "Personalized Exercise Program: Exercise is an essential part of staying healthy, especially for the elderly. However, they may have limitations and specific health conditions that require a personalized exercise program. A technology solution to this problem could be an AI-powered app that creates a personalized exercise program for Sunita based on her health condition, fitness level, and limitations."
   ]
  },
  {
   "cell_type": "code",
   "execution_count": null,
   "id": "fe81b32a",
   "metadata": {},
   "outputs": [],
   "source": [
    "import pandas as pd\n",
    "from sklearn.tree import DecisionTreeClassifier\n",
    "from sklearn.model_selection import train_test_split\n",
    "\n",
    "#this is the basic ml algorithm for predicting whether what exercises need to be done on particular day according to the health conditio\n",
    "df = pd.read_csv('exercise_data.csv')\n",
    "#lets consider that we have taken this data from the doctor and experts \n",
    "#It contains what exercises need to be done according to the health condition\n",
    "X = df.drop('label', axis=1)\n",
    "#This X will contains the coloums of \"health condition(any parameter (sugar level)\",\"fitness level(scale upto 10)\"\n",
    "#\"limitations like what pains sunita have on particular data\"\n",
    "y = df['label']\n",
    "# this y will contains regarding the exercises\n",
    "X_train, X_test, y_train, y_test = train_test_split(X, y, test_size=0.2, random_state=42)\n",
    "model = DecisionTreeClassifier()\n",
    "model.fit(X_train, y_train)\n",
    " \n",
    "def get_exercise_program(health_condition, fitness_level, limitations):\n",
    "    data = [[health_condition, fitness_level, limitations]]\n",
    "    prediction = model.predict(data)\n",
    "    return prediction\n"
   ]
  },
  {
   "cell_type": "markdown",
   "id": "b4ba67d8",
   "metadata": {},
   "source": [
    "Medication Management: One of the biggest challenges faced by elderly individuals is managing their medications. It can be difficult to keep track of which medications need to be taken at what time and in what dosage. A technology solution that can help manage medication schedules could be very useful for elderly individuals. For example, a medication reminder app that alerts the user when it's time to take their medication."
   ]
  },
  {
   "cell_type": "code",
   "execution_count": null,
   "id": "ee466c1a",
   "metadata": {},
   "outputs": [],
   "source": [
    "import datetime\n",
    "import time\n",
    "\n",
    "medication_schedule = {\n",
    "    \"Morning\": \"9:00 AM\",\n",
    "    \"Afternoon\": \"2:00 PM\",\n",
    "    \"Evening\": \"7:00 PM\"\n",
    "}\n",
    "# lets consider this is the timings for the medicaions\n",
    "# Here i considered that sunita is not taking medication on sunday(Over medication is also not good)\n",
    "\n",
    "while True:\n",
    "    current_time = datetime.datetime.now().strftime(\"%I:%M %p\")\n",
    "#     taking the time in hours:minutes and whether AM or PM\n",
    "    current_day = datetime.datetime.now().strftime(\"%A\")\n",
    "\n",
    "    for time_slot, time_value in medication_schedule.items():\n",
    "        if current_time == time_value and current_day != \"Sunday\":\n",
    "            print(f\"It's time for your {time_slot} medication.\")\n",
    "\n",
    "    time.sleep(60)\n"
   ]
  },
  {
   "cell_type": "code",
   "execution_count": null,
   "id": "a097598f",
   "metadata": {},
   "outputs": [],
   "source": []
  }
 ],
 "metadata": {
  "kernelspec": {
   "display_name": "Python 3",
   "language": "python",
   "name": "python3"
  },
  "language_info": {
   "codemirror_mode": {
    "name": "ipython",
    "version": 3
   },
   "file_extension": ".py",
   "mimetype": "text/x-python",
   "name": "python",
   "nbconvert_exporter": "python",
   "pygments_lexer": "ipython3",
   "version": "3.8.8"
  }
 },
 "nbformat": 4,
 "nbformat_minor": 5
}
